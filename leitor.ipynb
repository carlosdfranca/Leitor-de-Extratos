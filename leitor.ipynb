{
 "cells": [
  {
   "cell_type": "markdown",
   "metadata": {},
   "source": [
    "### Ler pasta com os extratos"
   ]
  },
  {
   "cell_type": "code",
   "execution_count": 8,
   "metadata": {},
   "outputs": [],
   "source": [
    "import tkinter as tk\n",
    "from tkinter import filedialog\n",
    "\n",
    "def selecionar_pasta():\n",
    "    pasta_selecionada = filedialog.askdirectory()\n",
    "    if pasta_selecionada:\n",
    "        caminho_var.set(pasta_selecionada)\n",
    "        janela.quit()\n",
    "\n",
    "janela = tk.Tk()\n",
    "janela.title(\"Selecione uma Pasta\")\n",
    "\n",
    "caminho_var = tk.StringVar()\n",
    "\n",
    "label = tk.Label(janela, textvariable=caminho_var)\n",
    "label.pack()\n",
    "\n",
    "botao_selecionar = tk.Button(janela, text=\"Selecionar Pasta\", command=selecionar_pasta)\n",
    "botao_selecionar.pack()\n",
    "\n",
    "\n",
    "janela.mainloop()\n",
    "\n",
    "\n",
    "# O caminho da pasta selecionada estará em caminho_var.get() após o usuário selecionar a pasta\n"
   ]
  },
  {
   "cell_type": "code",
   "execution_count": 12,
   "metadata": {},
   "outputs": [
    {
     "name": "stdout",
     "output_type": "stream",
     "text": [
      "C:/Users/Carlos/Desktop/Extratos\n",
      "Não é caixa\n",
      "Não é caixa\n",
      "Não é caixa\n",
      "Não é caixa\n",
      "Não é caixa\n",
      "Não é caixa\n",
      "C:/Users/Carlos/Desktop/Extratos\\Caixa - CAIXA FIC BRASIL DISPONIBILIDADES R 200-3.pdf\n",
      "C:/Users/Carlos/Desktop/Extratos\\Caixa - CAIXA FIC BRASIL DISPONIBILIDADES R 201-1.pdf\n",
      "C:/Users/Carlos/Desktop/Extratos\\Caixa - CAIXA FIC BRASIL DISPONIBILIDADES R 202-0.pdf\n",
      "C:/Users/Carlos/Desktop/Extratos\\Caixa - CAIXA FIC BRASIL DISPONIBILIDADES R 203-8.pdf\n",
      "C:/Users/Carlos/Desktop/Extratos\\Caixa - CAIXA FIC BRASIL DISPONIBILIDADES R 204-6.pdf\n",
      "C:/Users/Carlos/Desktop/Extratos\\Caixa - CAIXA FIC BRASIL DISPONIBILIDADES R 205-4.pdf\n"
     ]
    },
    {
     "ename": "",
     "evalue": "",
     "output_type": "error",
     "traceback": [
      "\u001b[1;31mThe Kernel crashed while executing code in the the current cell or a previous cell. Please review the code in the cell(s) to identify a possible cause of the failure. Click <a href='https://aka.ms/vscodeJupyterKernelCrash'>here</a> for more info. View Jupyter <a href='command:jupyter.viewOutput'>log</a> for further details."
     ]
    }
   ],
   "source": [
    "import os\n",
    "\n",
    "pasta_extratos = caminho_var.get()\n",
    "print(pasta_extratos)\n",
    "\n",
    "\n",
    "# Verifique se o caminho da pasta é válido\n",
    "if os.path.exists(pasta_extratos) and os.path.isdir(pasta_extratos):\n",
    "    # Percorra todos os arquivos na pasta\n",
    "    for nome_arquivo in os.listdir(pasta_extratos):\n",
    "        # Obtenha o caminho completo de cada arquivo\n",
    "        if \"Caixa - \" in nome_arquivo:\n",
    "            caminho_completo = os.path.join(pasta_extratos, nome_arquivo)\n",
    "            print(caminho_completo)\n",
    "        else:\n",
    "            print('Não é caixa')\n",
    "else:\n",
    "    print(\"A pasta não existe ou não é válida.\")"
   ]
  }
 ],
 "metadata": {
  "kernelspec": {
   "display_name": "calcularmediamk",
   "language": "python",
   "name": "python3"
  },
  "language_info": {
   "codemirror_mode": {
    "name": "ipython",
    "version": 3
   },
   "file_extension": ".py",
   "mimetype": "text/x-python",
   "name": "python",
   "nbconvert_exporter": "python",
   "pygments_lexer": "ipython3",
   "version": "3.10.9"
  }
 },
 "nbformat": 4,
 "nbformat_minor": 2
}
