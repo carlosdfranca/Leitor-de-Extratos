{
 "cells": [
  {
   "cell_type": "markdown",
   "metadata": {},
   "source": [
    "### Ler pasta com os extratos"
   ]
  },
  {
   "cell_type": "code",
   "execution_count": 11,
   "metadata": {},
   "outputs": [
    {
     "name": "stdout",
     "output_type": "stream",
     "text": [
      "Não é caixa\n",
      "Não é caixa\n",
      "Não é caixa\n",
      "Não é caixa\n",
      "Não é caixa\n",
      "Não é caixa\n",
      "\n",
      "\n",
      "\n",
      "\n",
      "\n",
      "\n"
     ]
    }
   ],
   "source": [
    "import os\n",
    "from PyPDF2 import PdfReader\n",
    "\n",
    "\n",
    "pasta_extratos = \"C:/Users/Carlos/Desktop/Extratos\"\n",
    "\n",
    "# Verifique se o caminho da pasta é válido\n",
    "if os.path.exists(pasta_extratos) and os.path.isdir(pasta_extratos):\n",
    "    # Percorra todos os arquivos na pasta\n",
    "    for nome_arquivo in os.listdir(pasta_extratos):\n",
    "        # Obtenha o caminho completo de cada arquivo\n",
    "        if \"Caixa - \" in nome_arquivo:\n",
    "            caminho_completo = os.path.join(pasta_extratos, nome_arquivo)\n",
    "            # Ler e colocar na planiha as movimentações e o saldo do fundo\n",
    "            print()\n",
    "        else:\n",
    "            print('Não é caixa')\n",
    "else:\n",
    "    print(\"A pasta não existe ou não é válida.\")"
   ]
  },
  {
   "cell_type": "code",
   "execution_count": 13,
   "metadata": {},
   "outputs": [
    {
     "name": "stdout",
     "output_type": "stream",
     "text": [
      "09/03/2023, 1 1:26 CAIXA  - Extrato de Fundos\n",
      "about:blank 1/1\n",
      "Extrato Fundo de Investimento\n",
      "Para simples verificação\n",
      "Nome da Agência\n",
      "UBERABA, MG  Código\n",
      "0160 Operação\n",
      "5826 Emissão\n",
      "09/03/2023 \n",
      "Fundo\n",
      "CAIXA  FIC BRASIL  DISPONIBILIDADES R CNPJ do Fundo\n",
      "14.508.643/0001-55  Início das Atividades do Fundo\n",
      "30/08/2012 \n",
      "Rentabilidade do Fundo\n",
      "No Mês(%) No Ano(%) Nos Últimos 12 Meses(%) Cota em: 31/01/2023 Cota em: 28/02/2023\n",
      "0,7896  1,7589  11,1372  2,169723  2,186855  \n",
      "Administradora\n",
      "Nome\n",
      "Caixa Econômica Federal Endereço\n",
      "SBS - Quadra 04 - Lotes 3/4 - Brasília/DF CNPJ da Administradora\n",
      "00.360.305/0001-04 \n",
      "Cliente\n",
      "Nome\n",
      "IPSER V INST  PREV SER PUB MUN  CPF/CNPJ\n",
      "04.793.484/0001-24 Conta Corrente\n",
      "006.00000200-3 Mês/Ano\n",
      "02/2023 Folha\n",
      "01/01\n",
      "Análise do Perfil do Investidor\n",
      " Data da Avaliação\n",
      "Resumo da Movimentação\n",
      "Histórico Valor em R$ Qtde de Cotas\n",
      "Saldo Anterior  192.021,36 C 88.500,401565\n",
      "Aplicações  2.892,56 C 1.328,505344\n",
      "Resgates  196.261,00 D 89.785,313734\n",
      "Rendimento Bruto no Mês  1.442,41 C \n",
      "IRRF  0,00 \n",
      "IOF  0,00 \n",
      "Taxa de Saída  0,00  \n",
      "Saldo Bruto*  95,33 C 43,593175\n",
      "Resgate Bruto em Trânsito*  0,00 \n",
      "(*) Valor sujeito à tributação, conforme legislação em vigor\n",
      "Movimentação Detalhada\n",
      "Data Histórico Valor R$  Qtde de Cotas\n",
      "10 / 02 APLICACAO 2.892,56 C   1.328,505344\n",
      "27 / 02 RESGA TE 196.261,00 D   89.785,313734\n",
      " IRRF 0,00\n",
      " IOF 0,00\n",
      "Dados de T ributação Rendimento Base IRRF\n",
      " 0,00  0,00\n",
      "Informações ao Cotista\n",
      " Consulte seu extrato de fundos exclusivamente pelo Internet Banking CAIXA, de forma\n",
      " prática e segura, e beneficie-se de todas as vantagens que os serviços on-line lhe\n",
      " proporcionam. Fale com seu Gerente para solicitar a inibição do envio mensal do seu\n",
      " extrato pelos Correios. Além de reduzir suas despesas com impressão e postagem\n",
      " dos extratos, você contribui para preservação do meio-ambiente!\n",
      " Prezado(a) Cotista, compareça à sua agência de relacionamento e cadastre ou atualize\n",
      " seu endereço de e-mail.\n",
      "Serviço de Atendimento ao Cotista\n",
      "SAC:\n",
      "0800 726 0101 Endereço para Correspondência:\n",
      " Caixa Postal 72624, São Paulo/SP  CEP: 01405-001 \n",
      "Ouvidoria:\n",
      "0800 725 7474 Endereço Eletrônico:\n",
      " https://www1.caixa.gov .br/atendimento/telefones_da_caixa.asp \n",
      " Acesse o site da CAIXA: www .caixa.gov .br\n"
     ]
    }
   ],
   "source": [
    "nome_arquivo = \"C:/Users/Carlos/Desktop/Extratos/Caixa - CAIXA FIC BRASIL DISPONIBILIDADES R 200-3.pdf\"\n",
    "\n",
    "# Abra o arquivo PDF em modo de leitura binária\n",
    "with open(nome_arquivo, 'rb') as arquivo_pdf:  # Substitua 'seuarquivo.pdf' pelo nome do seu arquivo PDF\n",
    "    leitor_pdf = PdfReader(arquivo_pdf)\n",
    "    \n",
    "    # Inicialize uma variável para armazenar o texto do PDF\n",
    "    texto_pdf = \"\"\n",
    "    \n",
    "    # Percorra todas as páginas do PDF\n",
    "    for pagina in leitor_pdf.pages:\n",
    "        texto_pagina = pagina.extract_text()\n",
    "        texto_pdf += texto_pagina\n",
    "\n",
    "# Agora, 'texto_pdf' contém o texto completo do PDF\n",
    "\n",
    "# Divida o texto em linhas\n",
    "linhas = texto_pdf.splitlines()\n",
    "\n",
    "# Filtrar as linhas não vazias\n",
    "linhas_nao_vazias = [linha for linha in linhas if linha.strip()]\n",
    "\n",
    "# Recrie o texto com as linhas não vazias\n",
    "texto_sem_linhas_vazias = '\\n'.join(linhas_nao_vazias)\n",
    "\n",
    "# Agora, 'texto_sem_linhas_vazias' contém o texto sem as linhas vazias\n",
    "print(texto_sem_linhas_vazias)"
   ]
  }
 ],
 "metadata": {
  "kernelspec": {
   "display_name": "calcularmediamk",
   "language": "python",
   "name": "python3"
  },
  "language_info": {
   "codemirror_mode": {
    "name": "ipython",
    "version": 3
   },
   "file_extension": ".py",
   "mimetype": "text/x-python",
   "name": "python",
   "nbconvert_exporter": "python",
   "pygments_lexer": "ipython3",
   "version": "3.10.9"
  }
 },
 "nbformat": 4,
 "nbformat_minor": 2
}
