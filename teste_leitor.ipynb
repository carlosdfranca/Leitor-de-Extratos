{
 "cells": [
  {
   "cell_type": "markdown",
   "metadata": {},
   "source": [
    "### Ler pasta com os extratos"
   ]
  },
  {
   "cell_type": "code",
   "execution_count": 31,
   "metadata": {},
   "outputs": [
    {
     "name": "stdout",
     "output_type": "stream",
     "text": [
      "Não é caixa\n",
      "Não é caixa\n",
      "Não é caixa\n",
      "Não é caixa\n",
      "Não é caixa\n",
      "Não é caixa\n",
      "C:/Users/Carlos/Desktop/Extratos\\Caixa - CAIXA FIC BRASIL DISPONIBILIDADES R 200-3.pdf\n",
      "C:/Users/Carlos/Desktop/Extratos\\Caixa - CAIXA FIC BRASIL DISPONIBILIDADES R 201-1.pdf\n",
      "C:/Users/Carlos/Desktop/Extratos\\Caixa - CAIXA FIC BRASIL DISPONIBILIDADES R 202-0.pdf\n",
      "C:/Users/Carlos/Desktop/Extratos\\Caixa - CAIXA FIC BRASIL DISPONIBILIDADES R 203-8.pdf\n",
      "C:/Users/Carlos/Desktop/Extratos\\Caixa - CAIXA FIC BRASIL DISPONIBILIDADES R 204-6.pdf\n",
      "C:/Users/Carlos/Desktop/Extratos\\Caixa - CAIXA FIC BRASIL DISPONIBILIDADES R 205-4.pdf\n"
     ]
    }
   ],
   "source": [
    "import os\n",
    "from PyPDF2 import PdfReader\n",
    "import re\n",
    "\n",
    "\n",
    "pasta_extratos = \"C:/Users/Carlos/Desktop/Extratos\"\n",
    "\n",
    "# Verifique se o caminho da pasta é válido\n",
    "if os.path.exists(pasta_extratos) and os.path.isdir(pasta_extratos):\n",
    "    # Percorra todos os arquivos na pasta\n",
    "    for nome_arquivo in os.listdir(pasta_extratos):\n",
    "        # Obtenha o caminho completo de cada arquivo\n",
    "        if \"Caixa - \" in nome_arquivo:\n",
    "            caminho_completo = os.path.join(pasta_extratos, nome_arquivo)\n",
    "            # Ler e colocar na planiha as movimentações e o saldo do fundo\n",
    "            print(caminho_completo)\n",
    "        else:\n",
    "            print('Não é caixa')\n",
    "else:\n",
    "    print(\"A pasta não existe ou não é válida.\")"
   ]
  },
  {
   "cell_type": "code",
   "execution_count": 32,
   "metadata": {},
   "outputs": [
    {
     "name": "stdout",
     "output_type": "stream",
     "text": [
      "28/02/2023\n"
     ]
    }
   ],
   "source": [
    "nome_arquivo = \"C:/Users/Carlos/Desktop/Extratos\\Caixa - CAIXA FIC BRASIL DISPONIBILIDADES R 200-3.pdf\"\n",
    "\n",
    "# Abra o arquivo PDF em modo de leitura binária\n",
    "with open(nome_arquivo, 'rb') as arquivo_pdf:  # Substitua 'seuarquivo.pdf' pelo nome do seu arquivo PDF\n",
    "    leitor_pdf = PdfReader(arquivo_pdf)\n",
    "    \n",
    "    # Inicialize uma variável para armazenar o texto do PDF\n",
    "    texto_pdf = \"\"\n",
    "    \n",
    "    # Percorra todas as páginas do PDF\n",
    "    for pagina in leitor_pdf.pages:\n",
    "        texto_pagina = pagina.extract_text()\n",
    "        texto_pdf += texto_pagina\n",
    "\n",
    "# Inicialize variáveis para armazenar o texto desejado\n",
    "texto_desejado = []\n",
    "dentro_da_faixa = False\n",
    "\n",
    "# Divida o texto em linhas\n",
    "linhas = texto_pdf.splitlines()\n",
    "\n",
    "# Filtrar as linhas não vazias\n",
    "linhas = [linha for linha in linhas if linha.strip()]\n",
    "\n",
    "# Percorra as linhas para encontrar a faixa desejada\n",
    "for linha in linhas:\n",
    "    if \"Rentabilidade do Fundo\" in linha:\n",
    "        dentro_da_faixa = True\n",
    "    elif \"Movimentação Detalhada\" in linha:\n",
    "        dentro_da_faixa = False\n",
    "        break  # Parar quando encontrarmos a segunda linha\n",
    "\n",
    "    if dentro_da_faixa:\n",
    "        texto_desejado.append(linha)\n",
    "\n",
    "data_referencia = texto_desejado[1][-10:]\n",
    "\n",
    "print(data_referencia)"
   ]
  },
  {
   "cell_type": "code",
   "execution_count": 37,
   "metadata": {},
   "outputs": [
    {
     "name": "stdout",
     "output_type": "stream",
     "text": [
      "006.00000200-3\n",
      "2.892,56\n"
     ]
    }
   ],
   "source": [
    "for i, linha in enumerate(texto_desejado):\n",
    "    # Pegando a conta corrente\n",
    "    if i == 12:\n",
    "        padrao = r'\\d{3}\\.\\d{8}-\\d{1}'\n",
    "        correspondencia = re.search(padrao, linha)\n",
    "        if correspondencia:\n",
    "            conta_corrente = correspondencia.group()\n",
    "            conta_corrente = conta_corrente.strip()\n",
    "    elif i == 20:\n",
    "        linha_separada = linha.split(\" \")\n",
    "        aplicacoes = linha_separada[2].strip()\n",
    "\n",
    "    # print(i, \"---\", linha)\n",
    "\n",
    "print(conta_corrente)\n",
    "print(aplicacoes)"
   ]
  }
 ],
 "metadata": {
  "kernelspec": {
   "display_name": "calcularmediamk",
   "language": "python",
   "name": "python3"
  },
  "language_info": {
   "codemirror_mode": {
    "name": "ipython",
    "version": 3
   },
   "file_extension": ".py",
   "mimetype": "text/x-python",
   "name": "python",
   "nbconvert_exporter": "python",
   "pygments_lexer": "ipython3",
   "version": "3.10.9"
  }
 },
 "nbformat": 4,
 "nbformat_minor": 2
}
